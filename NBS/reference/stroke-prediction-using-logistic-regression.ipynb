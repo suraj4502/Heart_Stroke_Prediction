{
 "cells": [
  {
   "cell_type": "markdown",
   "id": "c0dec3ae",
   "metadata": {
    "papermill": {
     "duration": 0.006648,
     "end_time": "2024-09-01T11:43:42.786994",
     "exception": false,
     "start_time": "2024-09-01T11:43:42.780346",
     "status": "completed"
    },
    "tags": []
   },
   "source": [
    "## Stroke Prediction Analysis\n",
    "\n",
    "Strokes are a leading cause of death and disability worldwide. Understanding the factors that contribute to stroke risk can help in early detection and prevention. In this notebook, we will explore a dataset related to stroke prediction and see what insights we can uncover. If you find this notebook useful, please upvote it.\n"
   ]
  },
  {
   "cell_type": "code",
   "execution_count": 1,
   "id": "d9d73a4e",
   "metadata": {
    "papermill": {
     "duration": 0.024113,
     "end_time": "2024-09-01T11:43:42.817612",
     "exception": false,
     "start_time": "2024-09-01T11:43:42.793499",
     "status": "completed"
    },
    "tags": []
   },
   "outputs": [],
   "source": [
    "# Suppress warnings\n",
    "import warnings\n",
    "warnings.filterwarnings('ignore')"
   ]
  },
  {
   "cell_type": "code",
   "execution_count": 2,
   "id": "18d63762",
   "metadata": {
    "papermill": {
     "duration": 2.683195,
     "end_time": "2024-09-01T11:43:45.507066",
     "exception": false,
     "start_time": "2024-09-01T11:43:42.823871",
     "status": "completed"
    },
    "tags": []
   },
   "outputs": [],
   "source": [
    "# Import necessary libraries\n",
    "import pandas as pd\n",
    "import numpy as np\n",
    "import matplotlib.pyplot as plt\n",
    "import seaborn as sns\n",
    "from sklearn.model_selection import train_test_split\n",
    "from sklearn.preprocessing import StandardScaler\n",
    "from sklearn.linear_model import LogisticRegression\n",
    "from sklearn.metrics import accuracy_score, confusion_matrix, classification_report"
   ]
  },
  {
   "cell_type": "code",
   "execution_count": 3,
   "id": "aedb1d08",
   "metadata": {
    "papermill": {
     "duration": 0.077553,
     "end_time": "2024-09-01T11:43:45.591031",
     "exception": false,
     "start_time": "2024-09-01T11:43:45.513478",
     "status": "completed"
    },
    "tags": []
   },
   "outputs": [
    {
     "data": {
      "text/html": [
       "<div>\n",
       "<style scoped>\n",
       "    .dataframe tbody tr th:only-of-type {\n",
       "        vertical-align: middle;\n",
       "    }\n",
       "\n",
       "    .dataframe tbody tr th {\n",
       "        vertical-align: top;\n",
       "    }\n",
       "\n",
       "    .dataframe thead th {\n",
       "        text-align: right;\n",
       "    }\n",
       "</style>\n",
       "<table border=\"1\" class=\"dataframe\">\n",
       "  <thead>\n",
       "    <tr style=\"text-align: right;\">\n",
       "      <th></th>\n",
       "      <th>id</th>\n",
       "      <th>gender</th>\n",
       "      <th>age</th>\n",
       "      <th>hypertension</th>\n",
       "      <th>heart_disease</th>\n",
       "      <th>ever_married</th>\n",
       "      <th>work_type</th>\n",
       "      <th>Residence_type</th>\n",
       "      <th>avg_glucose_level</th>\n",
       "      <th>bmi</th>\n",
       "      <th>smoking_status</th>\n",
       "      <th>stroke</th>\n",
       "    </tr>\n",
       "  </thead>\n",
       "  <tbody>\n",
       "    <tr>\n",
       "      <th>0</th>\n",
       "      <td>9046</td>\n",
       "      <td>Male</td>\n",
       "      <td>67.0</td>\n",
       "      <td>0</td>\n",
       "      <td>1</td>\n",
       "      <td>Yes</td>\n",
       "      <td>Private</td>\n",
       "      <td>Urban</td>\n",
       "      <td>228.69</td>\n",
       "      <td>36.6</td>\n",
       "      <td>formerly smoked</td>\n",
       "      <td>1</td>\n",
       "    </tr>\n",
       "    <tr>\n",
       "      <th>1</th>\n",
       "      <td>51676</td>\n",
       "      <td>Female</td>\n",
       "      <td>61.0</td>\n",
       "      <td>0</td>\n",
       "      <td>0</td>\n",
       "      <td>Yes</td>\n",
       "      <td>Self-employed</td>\n",
       "      <td>Rural</td>\n",
       "      <td>202.21</td>\n",
       "      <td>NaN</td>\n",
       "      <td>never smoked</td>\n",
       "      <td>1</td>\n",
       "    </tr>\n",
       "    <tr>\n",
       "      <th>2</th>\n",
       "      <td>31112</td>\n",
       "      <td>Male</td>\n",
       "      <td>80.0</td>\n",
       "      <td>0</td>\n",
       "      <td>1</td>\n",
       "      <td>Yes</td>\n",
       "      <td>Private</td>\n",
       "      <td>Rural</td>\n",
       "      <td>105.92</td>\n",
       "      <td>32.5</td>\n",
       "      <td>never smoked</td>\n",
       "      <td>1</td>\n",
       "    </tr>\n",
       "    <tr>\n",
       "      <th>3</th>\n",
       "      <td>60182</td>\n",
       "      <td>Female</td>\n",
       "      <td>49.0</td>\n",
       "      <td>0</td>\n",
       "      <td>0</td>\n",
       "      <td>Yes</td>\n",
       "      <td>Private</td>\n",
       "      <td>Urban</td>\n",
       "      <td>171.23</td>\n",
       "      <td>34.4</td>\n",
       "      <td>smokes</td>\n",
       "      <td>1</td>\n",
       "    </tr>\n",
       "    <tr>\n",
       "      <th>4</th>\n",
       "      <td>1665</td>\n",
       "      <td>Female</td>\n",
       "      <td>79.0</td>\n",
       "      <td>1</td>\n",
       "      <td>0</td>\n",
       "      <td>Yes</td>\n",
       "      <td>Self-employed</td>\n",
       "      <td>Rural</td>\n",
       "      <td>174.12</td>\n",
       "      <td>24.0</td>\n",
       "      <td>never smoked</td>\n",
       "      <td>1</td>\n",
       "    </tr>\n",
       "  </tbody>\n",
       "</table>\n",
       "</div>"
      ],
      "text/plain": [
       "      id  gender   age  hypertension  heart_disease ever_married  \\\n",
       "0   9046    Male  67.0             0              1          Yes   \n",
       "1  51676  Female  61.0             0              0          Yes   \n",
       "2  31112    Male  80.0             0              1          Yes   \n",
       "3  60182  Female  49.0             0              0          Yes   \n",
       "4   1665  Female  79.0             1              0          Yes   \n",
       "\n",
       "       work_type Residence_type  avg_glucose_level   bmi   smoking_status  \\\n",
       "0        Private          Urban             228.69  36.6  formerly smoked   \n",
       "1  Self-employed          Rural             202.21   NaN     never smoked   \n",
       "2        Private          Rural             105.92  32.5     never smoked   \n",
       "3        Private          Urban             171.23  34.4           smokes   \n",
       "4  Self-employed          Rural             174.12  24.0     never smoked   \n",
       "\n",
       "   stroke  \n",
       "0       1  \n",
       "1       1  \n",
       "2       1  \n",
       "3       1  \n",
       "4       1  "
      ]
     },
     "execution_count": 3,
     "metadata": {},
     "output_type": "execute_result"
    }
   ],
   "source": [
    "# Load the dataset\n",
    "file_path = 'DATA/healthcare-dataset-stroke-data.csv'\n",
    "df = pd.read_csv(file_path)\n",
    "df.head()"
   ]
  },
  {
   "cell_type": "markdown",
   "id": "d486c1c2",
   "metadata": {
    "papermill": {
     "duration": 0.006461,
     "end_time": "2024-09-01T11:43:45.604588",
     "exception": false,
     "start_time": "2024-09-01T11:43:45.598127",
     "status": "completed"
    },
    "tags": []
   },
   "source": [
    "### Data Overview\n",
    "Let's take a quick look at the structure of the dataset."
   ]
  },
  {
   "cell_type": "code",
   "execution_count": 4,
   "id": "3743cb04",
   "metadata": {
    "papermill": {
     "duration": 0.042074,
     "end_time": "2024-09-01T11:43:45.653295",
     "exception": false,
     "start_time": "2024-09-01T11:43:45.611221",
     "status": "completed"
    },
    "tags": []
   },
   "outputs": [
    {
     "name": "stdout",
     "output_type": "stream",
     "text": [
      "<class 'pandas.core.frame.DataFrame'>\n",
      "RangeIndex: 5110 entries, 0 to 5109\n",
      "Data columns (total 12 columns):\n",
      " #   Column             Non-Null Count  Dtype  \n",
      "---  ------             --------------  -----  \n",
      " 0   id                 5110 non-null   int64  \n",
      " 1   gender             5110 non-null   object \n",
      " 2   age                5110 non-null   float64\n",
      " 3   hypertension       5110 non-null   int64  \n",
      " 4   heart_disease      5110 non-null   int64  \n",
      " 5   ever_married       5110 non-null   object \n",
      " 6   work_type          5110 non-null   object \n",
      " 7   Residence_type     5110 non-null   object \n",
      " 8   avg_glucose_level  5110 non-null   float64\n",
      " 9   bmi                4909 non-null   float64\n",
      " 10  smoking_status     5110 non-null   object \n",
      " 11  stroke             5110 non-null   int64  \n",
      "dtypes: float64(3), int64(4), object(5)\n",
      "memory usage: 479.2+ KB\n"
     ]
    }
   ],
   "source": [
    "# Display basic information about the dataset\n",
    "df.info()"
   ]
  },
  {
   "cell_type": "markdown",
   "id": "bf542091",
   "metadata": {
    "papermill": {
     "duration": 0.006575,
     "end_time": "2024-09-01T11:43:45.666816",
     "exception": false,
     "start_time": "2024-09-01T11:43:45.660241",
     "status": "completed"
    },
    "tags": []
   },
   "source": [
    "### Data Cleaning\n",
    "Before diving into analysis, we need to clean the data. This includes handling missing values and encoding categorical variables."
   ]
  },
  {
   "cell_type": "code",
   "execution_count": 5,
   "id": "2ae46bef",
   "metadata": {
    "papermill": {
     "duration": 0.024315,
     "end_time": "2024-09-01T11:43:45.697967",
     "exception": false,
     "start_time": "2024-09-01T11:43:45.673652",
     "status": "completed"
    },
    "tags": []
   },
   "outputs": [
    {
     "data": {
      "text/plain": [
       "id                     0\n",
       "gender                 0\n",
       "age                    0\n",
       "hypertension           0\n",
       "heart_disease          0\n",
       "ever_married           0\n",
       "work_type              0\n",
       "Residence_type         0\n",
       "avg_glucose_level      0\n",
       "bmi                  201\n",
       "smoking_status         0\n",
       "stroke                 0\n",
       "dtype: int64"
      ]
     },
     "execution_count": 5,
     "metadata": {},
     "output_type": "execute_result"
    }
   ],
   "source": [
    "# Check for missing values\n",
    "df.isnull().sum()"
   ]
  },
  {
   "cell_type": "code",
   "execution_count": 6,
   "id": "53a4ff30",
   "metadata": {
    "papermill": {
     "duration": 0.017611,
     "end_time": "2024-09-01T11:43:45.722952",
     "exception": false,
     "start_time": "2024-09-01T11:43:45.705341",
     "status": "completed"
    },
    "tags": []
   },
   "outputs": [],
   "source": [
    "# Fill missing BMI values with the mean BMI\n",
    "df['bmi'].fillna(df['bmi'].mean(), inplace=True)"
   ]
  },
  {
   "cell_type": "markdown",
   "id": "2516fdc8",
   "metadata": {
    "papermill": {
     "duration": 0.006734,
     "end_time": "2024-09-01T11:43:45.736781",
     "exception": false,
     "start_time": "2024-09-01T11:43:45.730047",
     "status": "completed"
    },
    "tags": []
   },
   "source": [
    "### Exploratory Data Analysis (EDA)\n",
    "Let's explore the data to understand the distribution of various features and their relationships with the target variable (stroke)."
   ]
  },
  {
   "cell_type": "code",
   "execution_count": 7,
   "id": "b11ac6a9",
   "metadata": {
    "papermill": {
     "duration": 0.477383,
     "end_time": "2024-09-01T11:43:46.221193",
     "exception": false,
     "start_time": "2024-09-01T11:43:45.743810",
     "status": "completed"
    },
    "tags": []
   },
   "outputs": [
    {
     "data": {
      "image/png": "[encoded data removed]",
      "text/plain": [
       "<Figure size 1000x600 with 1 Axes>"
      ]
     },
     "metadata": {},
     "output_type": "display_data"
    }
   ],
   "source": [
    "# Distribution of age\n",
    "plt.figure(figsize=(10, 6))\n",
    "sns.histplot(df['age'], kde=True, bins=30)\n",
    "plt.title('Age Distribution')\n",
    "plt.xlabel('Age')\n",
    "plt.ylabel('Frequency')\n",
    "plt.show()"
   ]
  },
  {
   "cell_type": "code",
   "execution_count": 8,
   "id": "5d127f25",
   "metadata": {
    "papermill": {
     "duration": 0.476512,
     "end_time": "2024-09-01T11:43:46.705874",
     "exception": false,
     "start_time": "2024-09-01T11:43:46.229362",
     "status": "completed"
    },
    "tags": []
   },
   "outputs": [
    {
     "data": {
      "image/png": "[encoded data removed]",
      "text/plain": [
       "<Figure size 1000x600 with 1 Axes>"
      ]
     },
     "metadata": {},
     "output_type": "display_data"
    }
   ],
   "source": [
    "# Distribution of average glucose level\n",
    "plt.figure(figsize=(10, 6))\n",
    "sns.histplot(df['avg_glucose_level'], kde=True, bins=30)\n",
    "plt.title('Average Glucose Level Distribution')\n",
    "plt.xlabel('Average Glucose Level')\n",
    "plt.ylabel('Frequency')\n",
    "plt.show()"
   ]
  },
  {
   "cell_type": "code",
   "execution_count": 9,
   "id": "de2e2b2c",
   "metadata": {
    "papermill": {
     "duration": 0.51134,
     "end_time": "2024-09-01T11:43:47.226475",
     "exception": false,
     "start_time": "2024-09-01T11:43:46.715135",
     "status": "completed"
    },
    "tags": []
   },
   "outputs": [
    {
     "data": {
      "image/png": "[encoded data removed]",
      "text/plain": [
       "<Figure size 1000x600 with 1 Axes>"
      ]
     },
     "metadata": {},
     "output_type": "display_data"
    }
   ],
   "source": [
    "# Distribution of BMI\n",
    "plt.figure(figsize=(10, 6))\n",
    "sns.histplot(df['bmi'], kde=True, bins=30)\n",
    "plt.title('BMI Distribution')\n",
    "plt.xlabel('BMI')\n",
    "plt.ylabel('Frequency')\n",
    "plt.show()"
   ]
  },
  {
   "cell_type": "markdown",
   "id": "bdf32b2c",
   "metadata": {
    "papermill": {
     "duration": 0.0097,
     "end_time": "2024-09-01T11:43:47.248916",
     "exception": false,
     "start_time": "2024-09-01T11:43:47.239216",
     "status": "completed"
    },
    "tags": []
   },
   "source": [
    "### Correlation Heatmap\n",
    "Let's see how the numeric features correlate with each other."
   ]
  },
  {
   "cell_type": "code",
   "execution_count": 10,
   "id": "0eae9f82",
   "metadata": {
    "papermill": {
     "duration": 0.546714,
     "end_time": "2024-09-01T11:43:47.805046",
     "exception": false,
     "start_time": "2024-09-01T11:43:47.258332",
     "status": "completed"
    },
    "tags": []
   },
   "outputs": [
    {
     "data": {
      "image/png": "[encoded data removed]",
      "text/plain": [
       "<Figure size 1200x800 with 2 Axes>"
      ]
     },
     "metadata": {},
     "output_type": "display_data"
    }
   ],
   "source": [
    "# Correlation heatmap\n",
    "numeric_df = df.select_dtypes(include=[np.number])\n",
    "plt.figure(figsize=(12, 8))\n",
    "sns.heatmap(numeric_df.corr(), annot=True, cmap='coolwarm', fmt='.2f')\n",
    "plt.title('Correlation Heatmap')\n",
    "plt.show()"
   ]
  },
  {
   "cell_type": "markdown",
   "id": "53c0b308",
   "metadata": {
    "papermill": {
     "duration": 0.014777,
     "end_time": "2024-09-01T11:43:47.834225",
     "exception": false,
     "start_time": "2024-09-01T11:43:47.819448",
     "status": "completed"
    },
    "tags": []
   },
   "source": [
    "### Feature Encoding\n",
    "Encode categorical variables for modeling."
   ]
  },
  {
   "cell_type": "code",
   "execution_count": 11,
   "id": "a943e2fc",
   "metadata": {
    "papermill": {
     "duration": 0.047985,
     "end_time": "2024-09-01T11:43:47.894945",
     "exception": false,
     "start_time": "2024-09-01T11:43:47.846960",
     "status": "completed"
    },
    "tags": []
   },
   "outputs": [
    {
     "data": {
      "text/html": [
       "<div>\n",
       "<style scoped>\n",
       "    .dataframe tbody tr th:only-of-type {\n",
       "        vertical-align: middle;\n",
       "    }\n",
       "\n",
       "    .dataframe tbody tr th {\n",
       "        vertical-align: top;\n",
       "    }\n",
       "\n",
       "    .dataframe thead th {\n",
       "        text-align: right;\n",
       "    }\n",
       "</style>\n",
       "<table border=\"1\" class=\"dataframe\">\n",
       "  <thead>\n",
       "    <tr style=\"text-align: right;\">\n",
       "      <th></th>\n",
       "      <th>id</th>\n",
       "      <th>age</th>\n",
       "      <th>hypertension</th>\n",
       "      <th>heart_disease</th>\n",
       "      <th>avg_glucose_level</th>\n",
       "      <th>bmi</th>\n",
       "      <th>stroke</th>\n",
       "      <th>gender_Male</th>\n",
       "      <th>gender_Other</th>\n",
       "      <th>ever_married_Yes</th>\n",
       "      <th>work_type_Never_worked</th>\n",
       "      <th>work_type_Private</th>\n",
       "      <th>work_type_Self-employed</th>\n",
       "      <th>work_type_children</th>\n",
       "      <th>Residence_type_Urban</th>\n",
       "      <th>smoking_status_formerly smoked</th>\n",
       "      <th>smoking_status_never smoked</th>\n",
       "      <th>smoking_status_smokes</th>\n",
       "    </tr>\n",
       "  </thead>\n",
       "  <tbody>\n",
       "    <tr>\n",
       "      <th>0</th>\n",
       "      <td>9046</td>\n",
       "      <td>67.0</td>\n",
       "      <td>0</td>\n",
       "      <td>1</td>\n",
       "      <td>228.69</td>\n",
       "      <td>36.600000</td>\n",
       "      <td>1</td>\n",
       "      <td>True</td>\n",
       "      <td>False</td>\n",
       "      <td>True</td>\n",
       "      <td>False</td>\n",
       "      <td>True</td>\n",
       "      <td>False</td>\n",
       "      <td>False</td>\n",
       "      <td>True</td>\n",
       "      <td>True</td>\n",
       "      <td>False</td>\n",
       "      <td>False</td>\n",
       "    </tr>\n",
       "    <tr>\n",
       "      <th>1</th>\n",
       "      <td>51676</td>\n",
       "      <td>61.0</td>\n",
       "      <td>0</td>\n",
       "      <td>0</td>\n",
       "      <td>202.21</td>\n",
       "      <td>28.893237</td>\n",
       "      <td>1</td>\n",
       "      <td>False</td>\n",
       "      <td>False</td>\n",
       "      <td>True</td>\n",
       "      <td>False</td>\n",
       "      <td>False</td>\n",
       "      <td>True</td>\n",
       "      <td>False</td>\n",
       "      <td>False</td>\n",
       "      <td>False</td>\n",
       "      <td>True</td>\n",
       "      <td>False</td>\n",
       "    </tr>\n",
       "    <tr>\n",
       "      <th>2</th>\n",
       "      <td>31112</td>\n",
       "      <td>80.0</td>\n",
       "      <td>0</td>\n",
       "      <td>1</td>\n",
       "      <td>105.92</td>\n",
       "      <td>32.500000</td>\n",
       "      <td>1</td>\n",
       "      <td>True</td>\n",
       "      <td>False</td>\n",
       "      <td>True</td>\n",
       "      <td>False</td>\n",
       "      <td>True</td>\n",
       "      <td>False</td>\n",
       "      <td>False</td>\n",
       "      <td>False</td>\n",
       "      <td>False</td>\n",
       "      <td>True</td>\n",
       "      <td>False</td>\n",
       "    </tr>\n",
       "    <tr>\n",
       "      <th>3</th>\n",
       "      <td>60182</td>\n",
       "      <td>49.0</td>\n",
       "      <td>0</td>\n",
       "      <td>0</td>\n",
       "      <td>171.23</td>\n",
       "      <td>34.400000</td>\n",
       "      <td>1</td>\n",
       "      <td>False</td>\n",
       "      <td>False</td>\n",
       "      <td>True</td>\n",
       "      <td>False</td>\n",
       "      <td>True</td>\n",
       "      <td>False</td>\n",
       "      <td>False</td>\n",
       "      <td>True</td>\n",
       "      <td>False</td>\n",
       "      <td>False</td>\n",
       "      <td>True</td>\n",
       "    </tr>\n",
       "    <tr>\n",
       "      <th>4</th>\n",
       "      <td>1665</td>\n",
       "      <td>79.0</td>\n",
       "      <td>1</td>\n",
       "      <td>0</td>\n",
       "      <td>174.12</td>\n",
       "      <td>24.000000</td>\n",
       "      <td>1</td>\n",
       "      <td>False</td>\n",
       "      <td>False</td>\n",
       "      <td>True</td>\n",
       "      <td>False</td>\n",
       "      <td>False</td>\n",
       "      <td>True</td>\n",
       "      <td>False</td>\n",
       "      <td>False</td>\n",
       "      <td>False</td>\n",
       "      <td>True</td>\n",
       "      <td>False</td>\n",
       "    </tr>\n",
       "  </tbody>\n",
       "</table>\n",
       "</div>"
      ],
      "text/plain": [
       "      id   age  hypertension  heart_disease  avg_glucose_level        bmi  \\\n",
       "0   9046  67.0             0              1             228.69  36.600000   \n",
       "1  51676  61.0             0              0             202.21  28.893237   \n",
       "2  31112  80.0             0              1             105.92  32.500000   \n",
       "3  60182  49.0             0              0             171.23  34.400000   \n",
       "4   1665  79.0             1              0             174.12  24.000000   \n",
       "\n",
       "   stroke  gender_Male  gender_Other  ever_married_Yes  \\\n",
       "0       1         True         False              True   \n",
       "1       1        False         False              True   \n",
       "2       1         True         False              True   \n",
       "3       1        False         False              True   \n",
       "4       1        False         False              True   \n",
       "\n",
       "   work_type_Never_worked  work_type_Private  work_type_Self-employed  \\\n",
       "0                   False               True                    False   \n",
       "1                   False              False                     True   \n",
       "2                   False               True                    False   \n",
       "3                   False               True                    False   \n",
       "4                   False              False                     True   \n",
       "\n",
       "   work_type_children  Residence_type_Urban  smoking_status_formerly smoked  \\\n",
       "0               False                  True                            True   \n",
       "1               False                 False                           False   \n",
       "2               False                 False                           False   \n",
       "3               False                  True                           False   \n",
       "4               False                 False                           False   \n",
       "\n",
       "   smoking_status_never smoked  smoking_status_smokes  \n",
       "0                        False                  False  \n",
       "1                         True                  False  \n",
       "2                         True                  False  \n",
       "3                        False                   True  \n",
       "4                         True                  False  "
      ]
     },
     "execution_count": 11,
     "metadata": {},
     "output_type": "execute_result"
    }
   ],
   "source": [
    "# Encode categorical variables\n",
    "df_encoded = pd.get_dummies(df, drop_first=True)\n",
    "df_encoded.head()"
   ]
  },
  {
   "cell_type": "markdown",
   "id": "5b6acf1e",
   "metadata": {
    "papermill": {
     "duration": 0.010484,
     "end_time": "2024-09-01T11:43:47.916181",
     "exception": false,
     "start_time": "2024-09-01T11:43:47.905697",
     "status": "completed"
    },
    "tags": []
   },
   "source": [
    "### Model Building\n",
    "Let's build a logistic regression model to predict the likelihood of a stroke."
   ]
  },
  {
   "cell_type": "code",
   "execution_count": 14,
   "id": "55b42fe8-d273-40bf-9fa7-0a8cb08f55f3",
   "metadata": {},
   "outputs": [],
   "source": [
    "from sklearn.preprocessing import LabelEncoder"
   ]
  },
  {
   "cell_type": "code",
   "execution_count": 15,
   "id": "a18deb03-8079-416e-a661-67b8f99ba8ce",
   "metadata": {},
   "outputs": [
    {
     "name": "stdout",
     "output_type": "stream",
     "text": [
      "Gender Mapping: {'Female': 0, 'Male': 1, 'Other': 2}\n",
      "Ever Married Mapping: {'No': 0, 'Yes': 1}\n",
      "Work Type Mapping: {'Govt_job': 0, 'Never_worked': 1, 'Private': 2, 'Self-employed': 3, 'children': 4}\n",
      "Residence Type Mapping: {'Rural': 0, 'Urban': 1}\n",
      "Smoking Status Mapping: {'Unknown': 0, 'formerly smoked': 1, 'never smoked': 2, 'smokes': 3}\n"
     ]
    }
   ],
   "source": [
    "le_gender = LabelEncoder()\n",
    "df['gender'] = le_gender.fit_transform(df['gender'])\n",
    "gender_mapping = dict(zip(le_gender.classes_, le_gender.transform(le_gender.classes_)))\n",
    "print(\"Gender Mapping:\", gender_mapping)\n",
    "\n",
    "le_ever_married = LabelEncoder()\n",
    "df['ever_married'] = le_ever_married.fit_transform(df['ever_married'])\n",
    "ever_married_mapping = dict(zip(le_ever_married.classes_, le_ever_married.transform(le_ever_married.classes_)))\n",
    "print(\"Ever Married Mapping:\", ever_married_mapping)\n",
    "\n",
    "le_work_type = LabelEncoder()\n",
    "df['work_type'] = le_work_type.fit_transform(df['work_type'])\n",
    "work_type_mapping = dict(zip(le_work_type.classes_, le_work_type.transform(le_work_type.classes_)))\n",
    "print(\"Work Type Mapping:\", work_type_mapping)\n",
    "\n",
    "le_residence_type = LabelEncoder()\n",
    "df['Residence_type'] = le_residence_type.fit_transform(df['Residence_type'])\n",
    "residence_type_mapping = dict(zip(le_residence_type.classes_, le_residence_type.transform(le_residence_type.classes_)))\n",
    "print(\"Residence Type Mapping:\", residence_type_mapping)\n",
    "\n",
    "le_smoking_status = LabelEncoder()\n",
    "df['smoking_status'] = le_smoking_status.fit_transform(df['smoking_status'])\n",
    "smoking_status_mapping = dict(zip(le_smoking_status.classes_, le_smoking_status.transform(le_smoking_status.classes_)))\n",
    "print(\"Smoking Status Mapping:\", smoking_status_mapping)"
   ]
  },
  {
   "cell_type": "code",
   "execution_count": 16,
   "id": "34d60d8f",
   "metadata": {
    "papermill": {
     "duration": 0.043662,
     "end_time": "2024-09-01T11:43:47.970645",
     "exception": false,
     "start_time": "2024-09-01T11:43:47.926983",
     "status": "completed"
    },
    "tags": []
   },
   "outputs": [],
   "source": [
    "# Split the data into training and testing sets\n",
    "X = df.drop(['id','stroke'], axis=1)\n",
    "y = df_encoded['stroke']\n",
    "X_train, X_test, y_train, y_test = train_test_split(X, y, test_size=0.2, random_state=42)\n",
    "\n",
    "# Standardize the features\n",
    "scaler = StandardScaler()\n",
    "X_train = scaler.fit_transform(X_train)\n",
    "X_test = scaler.transform(X_test)"
   ]
  },
  {
   "cell_type": "code",
   "execution_count": 18,
   "id": "28fd0894",
   "metadata": {
    "papermill": {
     "duration": 0.180897,
     "end_time": "2024-09-01T11:43:48.163238",
     "exception": false,
     "start_time": "2024-09-01T11:43:47.982341",
     "status": "completed"
    },
    "tags": []
   },
   "outputs": [
    {
     "data": {
      "text/plain": [
       "0.9393346379647749"
      ]
     },
     "execution_count": 18,
     "metadata": {},
     "output_type": "execute_result"
    }
   ],
   "source": [
    "# Train a logistic regression model\n",
    "model = LogisticRegression()\n",
    "model.fit(X_train, y_train)\n",
    "\n",
    "# Make predictions\n",
    "y_pred = model.predict(X_test)\n",
    "\n",
    "# Evaluate the model\n",
    "accuracy = accuracy_score(y_test, y_pred)\n",
    "conf_matrix = confusion_matrix(y_test, y_pred)\n",
    "class_report = classification_report(y_test, y_pred)\n",
    "\n",
    "accuracy"
   ]
  },
  {
   "cell_type": "code",
   "execution_count": 19,
   "id": "9de8da2f-e37c-4d6b-b359-4b2043bd9e4c",
   "metadata": {},
   "outputs": [
    {
     "data": {
      "text/plain": [
       "array([[960,   0],\n",
       "       [ 62,   0]], dtype=int64)"
      ]
     },
     "execution_count": 19,
     "metadata": {},
     "output_type": "execute_result"
    }
   ],
   "source": [
    "conf_matrix"
   ]
  },
  {
   "cell_type": "code",
   "execution_count": 20,
   "id": "6ebeb1b9-a7ca-493e-910b-3a11844ac16c",
   "metadata": {},
   "outputs": [
    {
     "data": {
      "text/plain": [
       "'              precision    recall  f1-score   support\\n\\n           0       0.94      1.00      0.97       960\\n           1       0.00      0.00      0.00        62\\n\\n    accuracy                           0.94      1022\\n   macro avg       0.47      0.50      0.48      1022\\nweighted avg       0.88      0.94      0.91      1022\\n'"
      ]
     },
     "execution_count": 20,
     "metadata": {},
     "output_type": "execute_result"
    }
   ],
   "source": [
    "class_report"
   ]
  },
  {
   "cell_type": "markdown",
   "id": "8b5a96b0",
   "metadata": {
    "papermill": {
     "duration": 0.012811,
     "end_time": "2024-09-01T11:43:48.199380",
     "exception": false,
     "start_time": "2024-09-01T11:43:48.186569",
     "status": "completed"
    },
    "tags": []
   },
   "source": [
    "### Conclusion and Future Work\n",
    "In this notebook, we explored the stroke prediction dataset, performed data cleaning, and built a logistic regression model to predict the likelihood of a stroke. The model's performance can be further improved by trying different algorithms, tuning hyperparameters, and incorporating more features.\n",
    "\n",
    "What other analyses do you think would be useful? Feel free to share your thoughts."
   ]
  },
  {
   "cell_type": "markdown",
   "id": "a977c976",
   "metadata": {
    "papermill": {
     "duration": 0.010882,
     "end_time": "2024-09-01T11:43:48.221460",
     "exception": false,
     "start_time": "2024-09-01T11:43:48.210578",
     "status": "completed"
    },
    "tags": []
   },
   "source": [
    "## Credits\n",
    "This notebook was created with the help of [Devra AI data science assistant](https://devra.ai/ref/kaggle)"
   ]
  }
 ],
 "metadata": {
  "kernelspec": {
   "display_name": "Python 3 (ipykernel)",
   "language": "python",
   "name": "python3"
  },
  "language_info": {
   "codemirror_mode": {
    "name": "ipython",
    "version": 3
   },
   "file_extension": ".py",
   "mimetype": "text/x-python",
   "name": "python",
   "nbconvert_exporter": "python",
   "pygments_lexer": "ipython3",
   "version": "3.11.5"
  },
  "papermill": {
   "default_parameters": {},
   "duration": 9.292759,
   "end_time": "2024-09-01T11:43:48.955439",
   "environment_variables": {},
   "exception": null,
   "input_path": "__notebook__.ipynb",
   "output_path": "__notebook__.ipynb",
   "parameters": {},
   "start_time": "2024-09-01T11:43:39.662680",
   "version": "2.6.0"
  }
 },
 "nbformat": 4,
 "nbformat_minor": 5
}
