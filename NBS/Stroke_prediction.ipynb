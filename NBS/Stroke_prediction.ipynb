{
 "cells": [
  {
   "cell_type": "code",
   "execution_count": 1,
   "id": "283806ab-3985-4f62-bd44-87bc16b7f7de",
   "metadata": {},
   "outputs": [],
   "source": [
    "import pandas as pd\n",
    "import numpy as np\n",
    "\n",
    "import matplotlib.pyplot as plt\n",
    "from matplotlib.pylab import rcParams\n",
    "rcParams['figure.figsize'] = 10,8\n",
    "import seaborn as sns\n",
    "\n",
    "import warnings\n",
    "warnings.filterwarnings('ignore')\n",
    "\n",
    "import math\n",
    "\n",
    "from sklearn.preprocessing import StandardScaler\n",
    "from sklearn.preprocessing import LabelEncoder\n",
    "\n",
    "from sklearn.model_selection import train_test_split,KFold\n",
    "from sklearn.metrics import accuracy_score, precision_score, recall_score, f1_score, classification_report\n",
    "import xgboost as x\n",
    "from sklearn.tree import DecisionTreeClassifier \n",
    "from sklearn.ensemble import RandomForestClassifier\n",
    "from sklearn.linear_model import LogisticRegression"
   ]
  },
  {
   "cell_type": "code",
   "execution_count": 2,
   "id": "457b5a5e-9869-4c05-92b9-251eda44e879",
   "metadata": {},
   "outputs": [],
   "source": [
    "df = pd.read_csv(\"DATA/healthcare-dataset-stroke-data.csv\")"
   ]
  },
  {
   "cell_type": "markdown",
   "id": "e5233b7b-3dd3-46ac-8dd1-32d7db01298f",
   "metadata": {},
   "source": [
    "---\n",
    "# Stroke Prediction Dataset\n",
    "\n",
    "This dataset is used to predict the likelihood of a patient experiencing a stroke based on various health and demographic factors. Each row contains relevant information about a patient, including their health history, lifestyle, and other attributes.\n",
    "\n",
    "## Attribute Information\n",
    "\n",
    "1. **id**: A unique identifier for each patient.\n",
    "2. **gender**: The gender of the patient. Possible values are:\n",
    "   - \"Male\"\n",
    "   - \"Female\"\n",
    "   - \"Other\"\n",
    "3. **age**: The age of the patient (in years).\n",
    "4. **hypertension**: Indicates whether the patient has hypertension (high blood pressure):\n",
    "   - 0: The patient does not have hypertension.\n",
    "   - 1: The patient has hypertension.\n",
    "5. **heart_disease**: Indicates whether the patient has a heart disease:\n",
    "   - 0: The patient does not have heart disease.\n",
    "   - 1: The patient has heart disease.\n",
    "6. **ever_married**: Indicates if the patient has ever been married:\n",
    "   - \"No\": The patient has never been married.\n",
    "   - \"Yes\": The patient has been married.\n",
    "7. **work_type**: The type of work the patient engages in. Possible values are:\n",
    "   - \"children\"\n",
    "   - \"Govt_job\"\n",
    "   - \"Never_worked\"\n",
    "   - \"Private\"\n",
    "   - \"Self-employed\"\n",
    "8. **Residence_type**: The type of residence the patient lives in:\n",
    "   - \"Rural\"\n",
    "   - \"Urban\"\n",
    "9. **avg_glucose_level**: The average glucose level in the patient’s blood.\n",
    "10. **bmi**: The body mass index (BMI) of the patient.\n",
    "11. **smoking_status**: The smoking habits of the patient. Possible values are:\n",
    "    - \"formerly smoked\"\n",
    "    - \"never smoked\"\n",
    "    - \"smokes\"\n",
    "    - \"Unknown\" (Indicates that smoking status information is unavailable for this patient)\n",
    "12. **stroke**: Indicates if the patient has experienced a stroke:\n",
    "    - 0: The patient has not had a stroke.\n",
    "    - 1: The patient has had a stroke.\n",
    "\n",
    "---"
   ]
  },
  {
   "cell_type": "code",
   "execution_count": 3,
   "id": "6b216b14-8826-4740-a258-891a99cad1fb",
   "metadata": {},
   "outputs": [
    {
     "data": {
      "text/html": [
       "<div>\n",
       "<style scoped>\n",
       "    .dataframe tbody tr th:only-of-type {\n",
       "        vertical-align: middle;\n",
       "    }\n",
       "\n",
       "    .dataframe tbody tr th {\n",
       "        vertical-align: top;\n",
       "    }\n",
       "\n",
       "    .dataframe thead th {\n",
       "        text-align: right;\n",
       "    }\n",
       "</style>\n",
       "<table border=\"1\" class=\"dataframe\">\n",
       "  <thead>\n",
       "    <tr style=\"text-align: right;\">\n",
       "      <th></th>\n",
       "      <th>id</th>\n",
       "      <th>gender</th>\n",
       "      <th>age</th>\n",
       "      <th>hypertension</th>\n",
       "      <th>heart_disease</th>\n",
       "      <th>ever_married</th>\n",
       "      <th>work_type</th>\n",
       "      <th>Residence_type</th>\n",
       "      <th>avg_glucose_level</th>\n",
       "      <th>bmi</th>\n",
       "      <th>smoking_status</th>\n",
       "      <th>stroke</th>\n",
       "    </tr>\n",
       "  </thead>\n",
       "  <tbody>\n",
       "    <tr>\n",
       "      <th>0</th>\n",
       "      <td>9046</td>\n",
       "      <td>Male</td>\n",
       "      <td>67.0</td>\n",
       "      <td>0</td>\n",
       "      <td>1</td>\n",
       "      <td>Yes</td>\n",
       "      <td>Private</td>\n",
       "      <td>Urban</td>\n",
       "      <td>228.69</td>\n",
       "      <td>36.6</td>\n",
       "      <td>formerly smoked</td>\n",
       "      <td>1</td>\n",
       "    </tr>\n",
       "    <tr>\n",
       "      <th>1</th>\n",
       "      <td>51676</td>\n",
       "      <td>Female</td>\n",
       "      <td>61.0</td>\n",
       "      <td>0</td>\n",
       "      <td>0</td>\n",
       "      <td>Yes</td>\n",
       "      <td>Self-employed</td>\n",
       "      <td>Rural</td>\n",
       "      <td>202.21</td>\n",
       "      <td>NaN</td>\n",
       "      <td>never smoked</td>\n",
       "      <td>1</td>\n",
       "    </tr>\n",
       "    <tr>\n",
       "      <th>2</th>\n",
       "      <td>31112</td>\n",
       "      <td>Male</td>\n",
       "      <td>80.0</td>\n",
       "      <td>0</td>\n",
       "      <td>1</td>\n",
       "      <td>Yes</td>\n",
       "      <td>Private</td>\n",
       "      <td>Rural</td>\n",
       "      <td>105.92</td>\n",
       "      <td>32.5</td>\n",
       "      <td>never smoked</td>\n",
       "      <td>1</td>\n",
       "    </tr>\n",
       "    <tr>\n",
       "      <th>3</th>\n",
       "      <td>60182</td>\n",
       "      <td>Female</td>\n",
       "      <td>49.0</td>\n",
       "      <td>0</td>\n",
       "      <td>0</td>\n",
       "      <td>Yes</td>\n",
       "      <td>Private</td>\n",
       "      <td>Urban</td>\n",
       "      <td>171.23</td>\n",
       "      <td>34.4</td>\n",
       "      <td>smokes</td>\n",
       "      <td>1</td>\n",
       "    </tr>\n",
       "    <tr>\n",
       "      <th>4</th>\n",
       "      <td>1665</td>\n",
       "      <td>Female</td>\n",
       "      <td>79.0</td>\n",
       "      <td>1</td>\n",
       "      <td>0</td>\n",
       "      <td>Yes</td>\n",
       "      <td>Self-employed</td>\n",
       "      <td>Rural</td>\n",
       "      <td>174.12</td>\n",
       "      <td>24.0</td>\n",
       "      <td>never smoked</td>\n",
       "      <td>1</td>\n",
       "    </tr>\n",
       "    <tr>\n",
       "      <th>...</th>\n",
       "      <td>...</td>\n",
       "      <td>...</td>\n",
       "      <td>...</td>\n",
       "      <td>...</td>\n",
       "      <td>...</td>\n",
       "      <td>...</td>\n",
       "      <td>...</td>\n",
       "      <td>...</td>\n",
       "      <td>...</td>\n",
       "      <td>...</td>\n",
       "      <td>...</td>\n",
       "      <td>...</td>\n",
       "    </tr>\n",
       "    <tr>\n",
       "      <th>5105</th>\n",
       "      <td>18234</td>\n",
       "      <td>Female</td>\n",
       "      <td>80.0</td>\n",
       "      <td>1</td>\n",
       "      <td>0</td>\n",
       "      <td>Yes</td>\n",
       "      <td>Private</td>\n",
       "      <td>Urban</td>\n",
       "      <td>83.75</td>\n",
       "      <td>NaN</td>\n",
       "      <td>never smoked</td>\n",
       "      <td>0</td>\n",
       "    </tr>\n",
       "    <tr>\n",
       "      <th>5106</th>\n",
       "      <td>44873</td>\n",
       "      <td>Female</td>\n",
       "      <td>81.0</td>\n",
       "      <td>0</td>\n",
       "      <td>0</td>\n",
       "      <td>Yes</td>\n",
       "      <td>Self-employed</td>\n",
       "      <td>Urban</td>\n",
       "      <td>125.20</td>\n",
       "      <td>40.0</td>\n",
       "      <td>never smoked</td>\n",
       "      <td>0</td>\n",
       "    </tr>\n",
       "    <tr>\n",
       "      <th>5107</th>\n",
       "      <td>19723</td>\n",
       "      <td>Female</td>\n",
       "      <td>35.0</td>\n",
       "      <td>0</td>\n",
       "      <td>0</td>\n",
       "      <td>Yes</td>\n",
       "      <td>Self-employed</td>\n",
       "      <td>Rural</td>\n",
       "      <td>82.99</td>\n",
       "      <td>30.6</td>\n",
       "      <td>never smoked</td>\n",
       "      <td>0</td>\n",
       "    </tr>\n",
       "    <tr>\n",
       "      <th>5108</th>\n",
       "      <td>37544</td>\n",
       "      <td>Male</td>\n",
       "      <td>51.0</td>\n",
       "      <td>0</td>\n",
       "      <td>0</td>\n",
       "      <td>Yes</td>\n",
       "      <td>Private</td>\n",
       "      <td>Rural</td>\n",
       "      <td>166.29</td>\n",
       "      <td>25.6</td>\n",
       "      <td>formerly smoked</td>\n",
       "      <td>0</td>\n",
       "    </tr>\n",
       "    <tr>\n",
       "      <th>5109</th>\n",
       "      <td>44679</td>\n",
       "      <td>Female</td>\n",
       "      <td>44.0</td>\n",
       "      <td>0</td>\n",
       "      <td>0</td>\n",
       "      <td>Yes</td>\n",
       "      <td>Govt_job</td>\n",
       "      <td>Urban</td>\n",
       "      <td>85.28</td>\n",
       "      <td>26.2</td>\n",
       "      <td>Unknown</td>\n",
       "      <td>0</td>\n",
       "    </tr>\n",
       "  </tbody>\n",
       "</table>\n",
       "<p>5110 rows × 12 columns</p>\n",
       "</div>"
      ],
      "text/plain": [
       "         id  gender   age  hypertension  heart_disease ever_married  \\\n",
       "0      9046    Male  67.0             0              1          Yes   \n",
       "1     51676  Female  61.0             0              0          Yes   \n",
       "2     31112    Male  80.0             0              1          Yes   \n",
       "3     60182  Female  49.0             0              0          Yes   \n",
       "4      1665  Female  79.0             1              0          Yes   \n",
       "...     ...     ...   ...           ...            ...          ...   \n",
       "5105  18234  Female  80.0             1              0          Yes   \n",
       "5106  44873  Female  81.0             0              0          Yes   \n",
       "5107  19723  Female  35.0             0              0          Yes   \n",
       "5108  37544    Male  51.0             0              0          Yes   \n",
       "5109  44679  Female  44.0             0              0          Yes   \n",
       "\n",
       "          work_type Residence_type  avg_glucose_level   bmi   smoking_status  \\\n",
       "0           Private          Urban             228.69  36.6  formerly smoked   \n",
       "1     Self-employed          Rural             202.21   NaN     never smoked   \n",
       "2           Private          Rural             105.92  32.5     never smoked   \n",
       "3           Private          Urban             171.23  34.4           smokes   \n",
       "4     Self-employed          Rural             174.12  24.0     never smoked   \n",
       "...             ...            ...                ...   ...              ...   \n",
       "5105        Private          Urban              83.75   NaN     never smoked   \n",
       "5106  Self-employed          Urban             125.20  40.0     never smoked   \n",
       "5107  Self-employed          Rural              82.99  30.6     never smoked   \n",
       "5108        Private          Rural             166.29  25.6  formerly smoked   \n",
       "5109       Govt_job          Urban              85.28  26.2          Unknown   \n",
       "\n",
       "      stroke  \n",
       "0          1  \n",
       "1          1  \n",
       "2          1  \n",
       "3          1  \n",
       "4          1  \n",
       "...      ...  \n",
       "5105       0  \n",
       "5106       0  \n",
       "5107       0  \n",
       "5108       0  \n",
       "5109       0  \n",
       "\n",
       "[5110 rows x 12 columns]"
      ]
     },
     "execution_count": 3,
     "metadata": {},
     "output_type": "execute_result"
    }
   ],
   "source": [
    "df"
   ]
  },
  {
   "cell_type": "code",
   "execution_count": 5,
   "id": "81aabd7e-ea05-4126-a687-269623fa71c2",
   "metadata": {},
   "outputs": [
    {
     "name": "stdout",
     "output_type": "stream",
     "text": [
      "<class 'pandas.core.frame.DataFrame'>\n",
      "RangeIndex: 5110 entries, 0 to 5109\n",
      "Data columns (total 12 columns):\n",
      " #   Column             Non-Null Count  Dtype  \n",
      "---  ------             --------------  -----  \n",
      " 0   id                 5110 non-null   int64  \n",
      " 1   gender             5110 non-null   object \n",
      " 2   age                5110 non-null   float64\n",
      " 3   hypertension       5110 non-null   int64  \n",
      " 4   heart_disease      5110 non-null   int64  \n",
      " 5   ever_married       5110 non-null   object \n",
      " 6   work_type          5110 non-null   object \n",
      " 7   Residence_type     5110 non-null   object \n",
      " 8   avg_glucose_level  5110 non-null   float64\n",
      " 9   bmi                4909 non-null   float64\n",
      " 10  smoking_status     5110 non-null   object \n",
      " 11  stroke             5110 non-null   int64  \n",
      "dtypes: float64(3), int64(4), object(5)\n",
      "memory usage: 479.2+ KB\n"
     ]
    }
   ],
   "source": [
    "df.info()"
   ]
  },
  {
   "cell_type": "code",
   "execution_count": 6,
   "id": "36f52873-58ab-4d22-adfc-c0dab70e51f1",
   "metadata": {},
   "outputs": [
    {
     "data": {
      "text/html": [
       "<div>\n",
       "<style scoped>\n",
       "    .dataframe tbody tr th:only-of-type {\n",
       "        vertical-align: middle;\n",
       "    }\n",
       "\n",
       "    .dataframe tbody tr th {\n",
       "        vertical-align: top;\n",
       "    }\n",
       "\n",
       "    .dataframe thead th {\n",
       "        text-align: right;\n",
       "    }\n",
       "</style>\n",
       "<table border=\"1\" class=\"dataframe\">\n",
       "  <thead>\n",
       "    <tr style=\"text-align: right;\">\n",
       "      <th></th>\n",
       "      <th>id</th>\n",
       "      <th>age</th>\n",
       "      <th>hypertension</th>\n",
       "      <th>heart_disease</th>\n",
       "      <th>avg_glucose_level</th>\n",
       "      <th>bmi</th>\n",
       "      <th>stroke</th>\n",
       "    </tr>\n",
       "  </thead>\n",
       "  <tbody>\n",
       "    <tr>\n",
       "      <th>count</th>\n",
       "      <td>5110.000000</td>\n",
       "      <td>5110.000000</td>\n",
       "      <td>5110.000000</td>\n",
       "      <td>5110.000000</td>\n",
       "      <td>5110.000000</td>\n",
       "      <td>4909.000000</td>\n",
       "      <td>5110.000000</td>\n",
       "    </tr>\n",
       "    <tr>\n",
       "      <th>mean</th>\n",
       "      <td>36517.829354</td>\n",
       "      <td>43.226614</td>\n",
       "      <td>0.097456</td>\n",
       "      <td>0.054012</td>\n",
       "      <td>106.147677</td>\n",
       "      <td>28.893237</td>\n",
       "      <td>0.048728</td>\n",
       "    </tr>\n",
       "    <tr>\n",
       "      <th>std</th>\n",
       "      <td>21161.721625</td>\n",
       "      <td>22.612647</td>\n",
       "      <td>0.296607</td>\n",
       "      <td>0.226063</td>\n",
       "      <td>45.283560</td>\n",
       "      <td>7.854067</td>\n",
       "      <td>0.215320</td>\n",
       "    </tr>\n",
       "    <tr>\n",
       "      <th>min</th>\n",
       "      <td>67.000000</td>\n",
       "      <td>0.080000</td>\n",
       "      <td>0.000000</td>\n",
       "      <td>0.000000</td>\n",
       "      <td>55.120000</td>\n",
       "      <td>10.300000</td>\n",
       "      <td>0.000000</td>\n",
       "    </tr>\n",
       "    <tr>\n",
       "      <th>25%</th>\n",
       "      <td>17741.250000</td>\n",
       "      <td>25.000000</td>\n",
       "      <td>0.000000</td>\n",
       "      <td>0.000000</td>\n",
       "      <td>77.245000</td>\n",
       "      <td>23.500000</td>\n",
       "      <td>0.000000</td>\n",
       "    </tr>\n",
       "    <tr>\n",
       "      <th>50%</th>\n",
       "      <td>36932.000000</td>\n",
       "      <td>45.000000</td>\n",
       "      <td>0.000000</td>\n",
       "      <td>0.000000</td>\n",
       "      <td>91.885000</td>\n",
       "      <td>28.100000</td>\n",
       "      <td>0.000000</td>\n",
       "    </tr>\n",
       "    <tr>\n",
       "      <th>75%</th>\n",
       "      <td>54682.000000</td>\n",
       "      <td>61.000000</td>\n",
       "      <td>0.000000</td>\n",
       "      <td>0.000000</td>\n",
       "      <td>114.090000</td>\n",
       "      <td>33.100000</td>\n",
       "      <td>0.000000</td>\n",
       "    </tr>\n",
       "    <tr>\n",
       "      <th>max</th>\n",
       "      <td>72940.000000</td>\n",
       "      <td>82.000000</td>\n",
       "      <td>1.000000</td>\n",
       "      <td>1.000000</td>\n",
       "      <td>271.740000</td>\n",
       "      <td>97.600000</td>\n",
       "      <td>1.000000</td>\n",
       "    </tr>\n",
       "  </tbody>\n",
       "</table>\n",
       "</div>"
      ],
      "text/plain": [
       "                 id          age  hypertension  heart_disease  \\\n",
       "count   5110.000000  5110.000000   5110.000000    5110.000000   \n",
       "mean   36517.829354    43.226614      0.097456       0.054012   \n",
       "std    21161.721625    22.612647      0.296607       0.226063   \n",
       "min       67.000000     0.080000      0.000000       0.000000   \n",
       "25%    17741.250000    25.000000      0.000000       0.000000   \n",
       "50%    36932.000000    45.000000      0.000000       0.000000   \n",
       "75%    54682.000000    61.000000      0.000000       0.000000   \n",
       "max    72940.000000    82.000000      1.000000       1.000000   \n",
       "\n",
       "       avg_glucose_level          bmi       stroke  \n",
       "count        5110.000000  4909.000000  5110.000000  \n",
       "mean          106.147677    28.893237     0.048728  \n",
       "std            45.283560     7.854067     0.215320  \n",
       "min            55.120000    10.300000     0.000000  \n",
       "25%            77.245000    23.500000     0.000000  \n",
       "50%            91.885000    28.100000     0.000000  \n",
       "75%           114.090000    33.100000     0.000000  \n",
       "max           271.740000    97.600000     1.000000  "
      ]
     },
     "execution_count": 6,
     "metadata": {},
     "output_type": "execute_result"
    }
   ],
   "source": [
    "df.describe()"
   ]
  },
  {
   "cell_type": "code",
   "execution_count": 7,
   "id": "1fcf5bb9-f82b-444c-8da7-c75ab8763ea4",
   "metadata": {},
   "outputs": [
    {
     "data": {
      "text/plain": [
       "stroke\n",
       "0    4861\n",
       "1     249\n",
       "Name: count, dtype: int64"
      ]
     },
     "execution_count": 7,
     "metadata": {},
     "output_type": "execute_result"
    }
   ],
   "source": [
    "df['stroke'].value_counts()"
   ]
  },
  {
   "cell_type": "markdown",
   "id": "1a0df667-5bf4-4924-9617-f54d469dbc57",
   "metadata": {},
   "source": [
    "## Label Encoding"
   ]
  },
  {
   "cell_type": "code",
   "execution_count": 8,
   "id": "4c5c848c-950f-4575-862c-c39f3f3e0807",
   "metadata": {},
   "outputs": [
    {
     "data": {
      "text/plain": [
       "'suraj'"
      ]
     },
     "execution_count": 8,
     "metadata": {},
     "output_type": "execute_result"
    }
   ],
   "source": [
    "\"Suraj\".lower()"
   ]
  },
  {
   "cell_type": "code",
   "execution_count": 9,
   "id": "6902921b-36fb-4c5e-b039-8e9f4bbabb94",
   "metadata": {},
   "outputs": [
    {
     "data": {
      "text/html": [
       "<div>\n",
       "<style scoped>\n",
       "    .dataframe tbody tr th:only-of-type {\n",
       "        vertical-align: middle;\n",
       "    }\n",
       "\n",
       "    .dataframe tbody tr th {\n",
       "        vertical-align: top;\n",
       "    }\n",
       "\n",
       "    .dataframe thead th {\n",
       "        text-align: right;\n",
       "    }\n",
       "</style>\n",
       "<table border=\"1\" class=\"dataframe\">\n",
       "  <thead>\n",
       "    <tr style=\"text-align: right;\">\n",
       "      <th></th>\n",
       "      <th>id</th>\n",
       "      <th>gender</th>\n",
       "      <th>age</th>\n",
       "      <th>hypertension</th>\n",
       "      <th>heart_disease</th>\n",
       "      <th>ever_married</th>\n",
       "      <th>work_type</th>\n",
       "      <th>Residence_type</th>\n",
       "      <th>avg_glucose_level</th>\n",
       "      <th>bmi</th>\n",
       "      <th>smoking_status</th>\n",
       "      <th>stroke</th>\n",
       "    </tr>\n",
       "  </thead>\n",
       "  <tbody>\n",
       "    <tr>\n",
       "      <th>3677</th>\n",
       "      <td>29816</td>\n",
       "      <td>Male</td>\n",
       "      <td>64.0</td>\n",
       "      <td>1</td>\n",
       "      <td>0</td>\n",
       "      <td>Yes</td>\n",
       "      <td>Private</td>\n",
       "      <td>Rural</td>\n",
       "      <td>91.85</td>\n",
       "      <td>31.8</td>\n",
       "      <td>formerly smoked</td>\n",
       "      <td>0</td>\n",
       "    </tr>\n",
       "    <tr>\n",
       "      <th>4576</th>\n",
       "      <td>66786</td>\n",
       "      <td>Female</td>\n",
       "      <td>53.0</td>\n",
       "      <td>0</td>\n",
       "      <td>0</td>\n",
       "      <td>Yes</td>\n",
       "      <td>Private</td>\n",
       "      <td>Rural</td>\n",
       "      <td>94.14</td>\n",
       "      <td>27.7</td>\n",
       "      <td>smokes</td>\n",
       "      <td>0</td>\n",
       "    </tr>\n",
       "  </tbody>\n",
       "</table>\n",
       "</div>"
      ],
      "text/plain": [
       "         id  gender   age  hypertension  heart_disease ever_married work_type  \\\n",
       "3677  29816    Male  64.0             1              0          Yes   Private   \n",
       "4576  66786  Female  53.0             0              0          Yes   Private   \n",
       "\n",
       "     Residence_type  avg_glucose_level   bmi   smoking_status  stroke  \n",
       "3677          Rural              91.85  31.8  formerly smoked       0  \n",
       "4576          Rural              94.14  27.7           smokes       0  "
      ]
     },
     "execution_count": 9,
     "metadata": {},
     "output_type": "execute_result"
    }
   ],
   "source": [
    "df.sample(2)"
   ]
  },
  {
   "cell_type": "code",
   "execution_count": 10,
   "id": "bfe3c38c-6047-40f5-b75d-0217554bf310",
   "metadata": {},
   "outputs": [
    {
     "name": "stdout",
     "output_type": "stream",
     "text": [
      "Gender Mapping: {'Female': 0, 'Male': 1, 'Other': 2}\n",
      "Ever Married Mapping: {'No': 0, 'Yes': 1}\n",
      "Work Type Mapping: {'Govt_job': 0, 'Never_worked': 1, 'Private': 2, 'Self-employed': 3, 'children': 4}\n",
      "Residence Type Mapping: {'Rural': 0, 'Urban': 1}\n",
      "Smoking Status Mapping: {'Unknown': 0, 'formerly smoked': 1, 'never smoked': 2, 'smokes': 3}\n"
     ]
    }
   ],
   "source": [
    "le_gender = LabelEncoder()\n",
    "df['gender'] = le_gender.fit_transform(df['gender'])\n",
    "gender_mapping = dict(zip(le_gender.classes_, le_gender.transform(le_gender.classes_)))\n",
    "print(\"Gender Mapping:\", gender_mapping)\n",
    "\n",
    "le_ever_married = LabelEncoder()\n",
    "df['ever_married'] = le_ever_married.fit_transform(df['ever_married'])\n",
    "ever_married_mapping = dict(zip(le_ever_married.classes_, le_ever_married.transform(le_ever_married.classes_)))\n",
    "print(\"Ever Married Mapping:\", ever_married_mapping)\n",
    "\n",
    "le_work_type = LabelEncoder()\n",
    "df['work_type'] = le_work_type.fit_transform(df['work_type'])\n",
    "work_type_mapping = dict(zip(le_work_type.classes_, le_work_type.transform(le_work_type.classes_)))\n",
    "print(\"Work Type Mapping:\", work_type_mapping)\n",
    "\n",
    "le_residence_type = LabelEncoder()\n",
    "df['Residence_type'] = le_residence_type.fit_transform(df['Residence_type'])\n",
    "residence_type_mapping = dict(zip(le_residence_type.classes_, le_residence_type.transform(le_residence_type.classes_)))\n",
    "print(\"Residence Type Mapping:\", residence_type_mapping)\n",
    "\n",
    "le_smoking_status = LabelEncoder()\n",
    "df['smoking_status'] = le_smoking_status.fit_transform(df['smoking_status'])\n",
    "smoking_status_mapping = dict(zip(le_smoking_status.classes_, le_smoking_status.transform(le_smoking_status.classes_)))\n",
    "print(\"Smoking Status Mapping:\", smoking_status_mapping)"
   ]
  },
  {
   "cell_type": "markdown",
   "id": "ff1e5ab3-1f31-48a5-8ca6-2871b2806ef7",
   "metadata": {},
   "source": [
    "## Handling missing values"
   ]
  },
  {
   "cell_type": "code",
   "execution_count": 11,
   "id": "afa6fee7-a729-4833-85b8-c6f3051268e3",
   "metadata": {},
   "outputs": [
    {
     "data": {
      "text/plain": [
       "id                     0\n",
       "gender                 0\n",
       "age                    0\n",
       "hypertension           0\n",
       "heart_disease          0\n",
       "ever_married           0\n",
       "work_type              0\n",
       "Residence_type         0\n",
       "avg_glucose_level      0\n",
       "bmi                  201\n",
       "smoking_status         0\n",
       "stroke                 0\n",
       "dtype: int64"
      ]
     },
     "execution_count": 11,
     "metadata": {},
     "output_type": "execute_result"
    }
   ],
   "source": [
    "df.isnull().sum()"
   ]
  },
  {
   "cell_type": "code",
   "execution_count": 12,
   "id": "b2bbb5c1-4ae1-4c67-be67-63bc4eae2d54",
   "metadata": {},
   "outputs": [],
   "source": [
    "bmi_mean = df['bmi'].mean()\n",
    "df['bmi'].fillna(bmi_mean, inplace=True)"
   ]
  },
  {
   "cell_type": "code",
   "execution_count": 13,
   "id": "38967465-dd33-4911-9b7c-a04e18ade813",
   "metadata": {},
   "outputs": [
    {
     "data": {
      "text/plain": [
       "id                   0\n",
       "gender               0\n",
       "age                  0\n",
       "hypertension         0\n",
       "heart_disease        0\n",
       "ever_married         0\n",
       "work_type            0\n",
       "Residence_type       0\n",
       "avg_glucose_level    0\n",
       "bmi                  0\n",
       "smoking_status       0\n",
       "stroke               0\n",
       "dtype: int64"
      ]
     },
     "execution_count": 13,
     "metadata": {},
     "output_type": "execute_result"
    }
   ],
   "source": [
    "df.isnull().sum()"
   ]
  },
  {
   "cell_type": "code",
   "execution_count": 14,
   "id": "51e3c9fb-405d-4edf-8e2b-07279e6bb13a",
   "metadata": {
    "scrolled": true
   },
   "outputs": [
    {
     "data": {
      "text/plain": [
       "id                   0.006388\n",
       "gender               0.008929\n",
       "age                  0.245257\n",
       "hypertension         0.127904\n",
       "heart_disease        0.134914\n",
       "ever_married         0.108340\n",
       "work_type           -0.032316\n",
       "Residence_type       0.015458\n",
       "avg_glucose_level    0.131945\n",
       "bmi                  0.038947\n",
       "smoking_status       0.028123\n",
       "stroke               1.000000\n",
       "Name: stroke, dtype: float64"
      ]
     },
     "execution_count": 14,
     "metadata": {},
     "output_type": "execute_result"
    }
   ],
   "source": [
    "df.corr()['stroke']"
   ]
  },
  {
   "cell_type": "code",
   "execution_count": 15,
   "id": "c716badf-f7d7-401f-ae55-e950c1d01c56",
   "metadata": {},
   "outputs": [],
   "source": [
    "X = df.drop(columns=['id', 'stroke']) \n",
    "y = df['stroke']  # Target\n",
    "\n",
    "X_train, X_test, y_train, y_test = train_test_split(X, y, test_size=0.3, random_state=42)"
   ]
  },
  {
   "cell_type": "markdown",
   "id": "33abb9e8-1e21-4b03-80fa-42f62a4745de",
   "metadata": {},
   "source": [
    "## SMOTE "
   ]
  },
  {
   "cell_type": "code",
   "execution_count": 16,
   "id": "504b2c53-ad68-4104-b2b2-a6323ee64600",
   "metadata": {},
   "outputs": [
    {
     "name": "stdout",
     "output_type": "stream",
     "text": [
      "Before SMOTE: stroke\n",
      "0    3417\n",
      "1     160\n",
      "Name: count, dtype: int64\n",
      "After SMOTE: stroke\n",
      "0    3417\n",
      "1    3417\n",
      "Name: count, dtype: int64\n"
     ]
    }
   ],
   "source": [
    "from imblearn.over_sampling import SMOTE\n",
    "\n",
    "# Apply SMOTE to the training data\n",
    "smote = SMOTE(random_state=42)\n",
    "X_train_smote, y_train_smote = smote.fit_resample(X_train, y_train)\n",
    "\n",
    "print(f\"Before SMOTE: {y_train.value_counts()}\")\n",
    "print(f\"After SMOTE: {y_train_smote.value_counts()}\")"
   ]
  },
  {
   "cell_type": "markdown",
   "id": "2d46278a-72d2-47b3-a591-63ef6a4c6c12",
   "metadata": {},
   "source": [
    "## Scaling"
   ]
  },
  {
   "cell_type": "code",
   "execution_count": 17,
   "id": "95f2b4cc-5c6b-474c-bb94-c3726e11409f",
   "metadata": {},
   "outputs": [],
   "source": [
    "scaler = StandardScaler()\n",
    "\n",
    "# Fit the scaler on training data and transform both training and test data\n",
    "X_train_scaled = scaler.fit_transform(X_train_smote)\n",
    "X_test_scaled = scaler.transform(X_test)"
   ]
  },
  {
   "cell_type": "code",
   "execution_count": null,
   "id": "0b9f4c10-faf3-49ca-9d11-df729de58d6f",
   "metadata": {},
   "outputs": [],
   "source": []
  },
  {
   "cell_type": "markdown",
   "id": "5ccc9780-1274-4191-933a-4157eabbe24c",
   "metadata": {},
   "source": [
    "## Model Training"
   ]
  },
  {
   "cell_type": "code",
   "execution_count": 18,
   "id": "47e29b93-26f4-4bed-b3f2-abd9b7f7683f",
   "metadata": {},
   "outputs": [],
   "source": [
    "def demo_models(Model, X_TRAIN, X_TEST, Y_TRAIN, Y_TEST):\n",
    "    model = Model\n",
    "    model.fit(X_TRAIN, Y_TRAIN)\n",
    "\n",
    "    train_pred = model.predict(X_TRAIN)\n",
    "    test_pred = model.predict(X_TEST)\n",
    "    \n",
    "    train_accuracy = accuracy_score(Y_TRAIN, train_pred)\n",
    "    train_precision = precision_score(Y_TRAIN, train_pred)\n",
    "    train_recall = recall_score(Y_TRAIN, train_pred)\n",
    "    train_f1 = f1_score(Y_TRAIN, train_pred)\n",
    "    \n",
    "    test_accuracy = accuracy_score(Y_TEST, test_pred)\n",
    "    test_precision = precision_score(Y_TEST, test_pred)\n",
    "    test_recall = recall_score(Y_TEST, test_pred)\n",
    "    test_f1 = f1_score(Y_TEST, test_pred)\n",
    "\n",
    "    # Printing the summary\n",
    "    print(f\"• The Summary for 👉 {Model.__class__.__name__} is:\")\n",
    "    print(f\"→ For Training data: \")\n",
    "    print(f\"    ‣ Accuracy  = {'%.4f' % train_accuracy}\")\n",
    "    print(f\"    ‣ Precision = {'%.4f' % train_precision}\")\n",
    "    print(f\"    ‣ Recall    = {'%.4f' % train_recall}\")\n",
    "    print(f\"    ‣ F1 Score  = {'%.4f' % train_f1}\")\n",
    "    \n",
    "    print(f\"→ For Test data: \")\n",
    "    print(f\"    ‣ Accuracy  = {'%.4f' % test_accuracy}\")\n",
    "    print(f\"    ‣ Precision = {'%.4f' % test_precision}\")\n",
    "    print(f\"    ‣ Recall    = {'%.4f' % test_recall}\")\n",
    "    print(f\"    ‣ F1 Score  = {'%.4f' % test_f1}\")\n",
    "    return model"
   ]
  },
  {
   "cell_type": "code",
   "execution_count": 26,
   "id": "ba59955b-014f-4270-81e1-674882da9a7a",
   "metadata": {},
   "outputs": [
    {
     "name": "stdout",
     "output_type": "stream",
     "text": [
      "• The Summary for 👉 LogisticRegression is:\n",
      "→ For Training data: \n",
      "    ‣ Accuracy  = 0.9550\n",
      "    ‣ Precision = 0.4000\n",
      "    ‣ Recall    = 0.0125\n",
      "    ‣ F1 Score  = 0.0242\n",
      "→ For Test data: \n",
      "    ‣ Accuracy  = 0.9419\n",
      "    ‣ Precision = 0.5000\n",
      "    ‣ Recall    = 0.0112\n",
      "    ‣ F1 Score  = 0.0220\n"
     ]
    }
   ],
   "source": [
    "# Logistic Regression\n",
    "lr_model = LogisticRegression(random_state=42)\n",
    "lr_model = demo_models(lr_model, X_train_scaled, X_test_scaled, y_train_smote, y_test)"
   ]
  },
  {
   "cell_type": "code",
   "execution_count": 27,
   "id": "a3ad000a-a67d-4ee8-a72e-a62441cac656",
   "metadata": {},
   "outputs": [
    {
     "name": "stdout",
     "output_type": "stream",
     "text": [
      "• The Summary for 👉 RandomForestClassifier is:\n",
      "→ For Training data: \n",
      "    ‣ Accuracy  = 1.0000\n",
      "    ‣ Precision = 1.0000\n",
      "    ‣ Recall    = 1.0000\n",
      "    ‣ F1 Score  = 1.0000\n",
      "→ For Test data: \n",
      "    ‣ Accuracy  = 0.9406\n",
      "    ‣ Precision = 0.0000\n",
      "    ‣ Recall    = 0.0000\n",
      "    ‣ F1 Score  = 0.0000\n"
     ]
    }
   ],
   "source": [
    "rf_model = RandomForestClassifier(random_state=42)\n",
    "best_model = demo_models(rf_model,  X_train_scaled, X_test_scaled, y_train_smote, y_test)"
   ]
  },
  {
   "cell_type": "code",
   "execution_count": 28,
   "id": "6174d3a8-cf7d-4539-90d3-bcb44aa72f8c",
   "metadata": {},
   "outputs": [
    {
     "name": "stdout",
     "output_type": "stream",
     "text": [
      "• The Summary for 👉 RandomForestClassifier is:\n",
      "→ For Training data: \n",
      "    ‣ Accuracy  = 1.0000\n",
      "    ‣ Precision = 1.0000\n",
      "    ‣ Recall    = 1.0000\n",
      "    ‣ F1 Score  = 1.0000\n",
      "→ For Test data: \n",
      "    ‣ Accuracy  = 0.9406\n",
      "    ‣ Precision = 0.0000\n",
      "    ‣ Recall    = 0.0000\n",
      "    ‣ F1 Score  = 0.0000\n"
     ]
    }
   ],
   "source": [
    "new_lr_model = LogisticRegression(C= 0.01, max_iter= 100, solver= 'liblinear')\n",
    "new_lr_model = demo_models(rf_model,  X_train_scaled, X_test_scaled, y_train_smote, y_test)"
   ]
  },
  {
   "cell_type": "markdown",
   "id": "5c5c1600-ba38-4ecf-9c99-3126d8dc473f",
   "metadata": {},
   "source": [
    "## optimizing"
   ]
  },
  {
   "cell_type": "code",
   "execution_count": null,
   "id": "56362de0-9012-4774-8f05-9c3a6ff04bc8",
   "metadata": {},
   "outputs": [],
   "source": [
    "from sklearn.model_selection import GridSearchCV\n",
    "from sklearn.datasets import make_classification\n",
    "from sklearn.metrics import classification_report"
   ]
  },
  {
   "cell_type": "code",
   "execution_count": null,
   "id": "11c7ad53-fdc2-4e89-81b3-4b453557d6fb",
   "metadata": {},
   "outputs": [],
   "source": [
    "# Logistic Regression hyperparameter grid\n",
    "param_grid_lr = {\n",
    "    'C': [0.01, 0.1, 1, 10, 100],  # Regularization strength\n",
    "    'solver': ['newton-cg', 'lbfgs', 'liblinear'],  # Optimization solvers\n",
    "    'max_iter': [100, 200, 300]  # Maximum iterations\n",
    "}\n",
    "\n",
    "# Random Forest hyperparameter grid\n",
    "param_grid_rf = {\n",
    "    'n_estimators': [50, 100, 200],  # Number of trees in the forest\n",
    "    'max_depth': [None, 10, 20, 30],  # Maximum depth of the tree\n",
    "    'min_samples_split': [2, 5, 10],  # Minimum number of samples to split a node\n",
    "    'min_samples_leaf': [1, 2, 4],  # Minimum number of samples at each leaf node\n",
    "    'bootstrap': [True, False]  # Whether bootstrap samples are used\n",
    "}\n",
    "\n",
    "\n",
    "# Logistic Regression with GridSearchCV\n",
    "lr = LogisticRegression(random_state=42)\n",
    "grid_search_lr = GridSearchCV(estimator=lr, param_grid=param_grid_lr, cv=5, n_jobs=-1, verbose=2)\n",
    "grid_search_lr.fit(X_train_scaled, y_train_smote)\n",
    "\n",
    "# Random Forest with GridSearchCV\n",
    "rf = RandomForestClassifier(random_state=42)\n",
    "grid_search_rf = GridSearchCV(estimator=rf, param_grid=param_grid_rf, cv=5, n_jobs=-1, verbose=2)\n",
    "grid_search_rf.fit(X_train_scaled, y_train_smote)\n",
    "\n",
    "# Best parameters and score for Logistic Regression\n",
    "print(\"Best parameters for Logistic Regression: \", grid_search_lr.best_params_)\n",
    "print(\"Best score for Logistic Regression: \", grid_search_lr.best_score_)\n",
    "\n",
    "# Best parameters and score for Random Forest\n",
    "print(\"Best parameters for Random Forest: \", grid_search_rf.best_params_)\n",
    "print(\"Best score for Random Forest: \", grid_search_rf.best_score_)"
   ]
  },
  {
   "cell_type": "code",
   "execution_count": null,
   "id": "add786c7-663b-47f3-a9a6-bdaa03e4ac8f",
   "metadata": {},
   "outputs": [],
   "source": [
    "# Evaluate best Logistic Regression model on test data\n",
    "best_lr = grid_search_lr.best_estimator_\n",
    "y_pred_lr = best_lr.predict(X_test)\n",
    "print(\"Classification Report for Logistic Regression:\")\n",
    "print(classification_report(y_test, y_pred_lr))\n",
    "\n",
    "# Evaluate best Random Forest model on test data\n",
    "best_rf = grid_search_rf.best_estimator_\n",
    "y_pred_rf = best_rf.predict(X_test)\n",
    "print(\"Classification Report for Random Forest:\")\n",
    "print(classification_report(y_test, y_pred_rf))"
   ]
  },
  {
   "cell_type": "code",
   "execution_count": null,
   "id": "0040108d-9d5e-4bf4-b60a-048dfef8c1d2",
   "metadata": {},
   "outputs": [],
   "source": []
  },
  {
   "cell_type": "code",
   "execution_count": 22,
   "id": "f4102b70-3a57-4e03-b40a-d268d7df8f08",
   "metadata": {},
   "outputs": [
    {
     "data": {
      "text/plain": [
       "['MODELS/stroke_prediction_model.pkl']"
      ]
     },
     "execution_count": 22,
     "metadata": {},
     "output_type": "execute_result"
    }
   ],
   "source": [
    "import joblib\n",
    "\n",
    "joblib.dump(best_model, 'MODELS/stroke_prediction_model.pkl')"
   ]
  },
  {
   "cell_type": "code",
   "execution_count": 23,
   "id": "79a4da9e-1df3-4ead-b4a9-33abbe231814",
   "metadata": {},
   "outputs": [
    {
     "data": {
      "text/plain": [
       "['MODELS/scaler.pkl']"
      ]
     },
     "execution_count": 23,
     "metadata": {},
     "output_type": "execute_result"
    }
   ],
   "source": [
    "joblib.dump(scaler, 'MODELS/scaler.pkl')"
   ]
  },
  {
   "cell_type": "code",
   "execution_count": 24,
   "id": "d240953e-bc14-4aa7-aec1-ae93351d1310",
   "metadata": {},
   "outputs": [
    {
     "data": {
      "text/plain": [
       "['MODELS/lr_model.pkl']"
      ]
     },
     "execution_count": 24,
     "metadata": {},
     "output_type": "execute_result"
    }
   ],
   "source": [
    "joblib.dump(lr_model, \"MODELS/lr_model.pkl\")"
   ]
  },
  {
   "cell_type": "code",
   "execution_count": 25,
   "id": "e2b64097-ed94-4a0a-b1ae-63ba9766a334",
   "metadata": {},
   "outputs": [
    {
     "data": {
      "text/plain": [
       "['MODELS/new_lr_model.pkl']"
      ]
     },
     "execution_count": 25,
     "metadata": {},
     "output_type": "execute_result"
    }
   ],
   "source": [
    "joblib.dump(new_lr_model, \"MODELS/new_lr_model.pkl\")"
   ]
  },
  {
   "cell_type": "code",
   "execution_count": null,
   "id": "8a6926fc-ad42-4e14-8fb4-8744e149244b",
   "metadata": {},
   "outputs": [],
   "source": []
  }
 ],
 "metadata": {
  "kernelspec": {
   "display_name": "Python 3 (ipykernel)",
   "language": "python",
   "name": "python3"
  },
  "language_info": {
   "codemirror_mode": {
    "name": "ipython",
    "version": 3
   },
   "file_extension": ".py",
   "mimetype": "text/x-python",
   "name": "python",
   "nbconvert_exporter": "python",
   "pygments_lexer": "ipython3",
   "version": "3.11.5"
  }
 },
 "nbformat": 4,
 "nbformat_minor": 5
}
